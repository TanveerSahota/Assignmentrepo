{
  "nbformat": 4,
  "nbformat_minor": 0,
  "metadata": {
    "colab": {
      "provenance": []
    },
    "kernelspec": {
      "name": "python3",
      "display_name": "Python 3"
    },
    "language_info": {
      "name": "python"
    }
  },
  "cells": [
    {
      "cell_type": "markdown",
      "source": [],
      "metadata": {
        "id": "Hm_WiRi4ABoD"
      }
    },
    {
      "cell_type": "code",
      "execution_count": 61,
      "metadata": {
        "colab": {
          "base_uri": "https://localhost:8080/"
        },
        "id": "rKmb6Uie18Kz",
        "outputId": "b2c30c86-b291-47eb-be4d-7fa5cc855fb4"
      },
      "outputs": [
        {
          "output_type": "stream",
          "name": "stdout",
          "text": [
            "Tanveer Sahota\n"
          ]
        }
      ],
      "source": [
        "print('Tanveer Sahota')\n"
      ]
    },
    {
      "cell_type": "code",
      "source": [
        "a=3\n",
        "b=34\n",
        "print(a+b)\n"
      ],
      "metadata": {
        "colab": {
          "base_uri": "https://localhost:8080/"
        },
        "id": "_4tQNfu92zmo",
        "outputId": "24fd5009-2131-4925-f4b9-88d86eee5b39"
      },
      "execution_count": 2,
      "outputs": [
        {
          "output_type": "stream",
          "name": "stdout",
          "text": [
            "37\n"
          ]
        }
      ]
    },
    {
      "cell_type": "code",
      "source": [
        "a='tanveer'\n",
        "b=' sahota'\n",
        "print(a+b)\n"
      ],
      "metadata": {
        "colab": {
          "base_uri": "https://localhost:8080/"
        },
        "id": "bAobZIV_24NS",
        "outputId": "eee36cc8-ba54-4d76-dec1-1fb61282ec4c"
      },
      "execution_count": 62,
      "outputs": [
        {
          "output_type": "stream",
          "name": "stdout",
          "text": [
            "tanveer sahota\n"
          ]
        }
      ]
    },
    {
      "cell_type": "code",
      "source": [
        "a=\"tanveer\"\n",
        "b=7\n",
        "print(a+str(b))"
      ],
      "metadata": {
        "colab": {
          "base_uri": "https://localhost:8080/"
        },
        "id": "fncWGe1H3ErN",
        "outputId": "3874eb61-7b5f-4c57-f3d0-838c1a54c296"
      },
      "execution_count": 63,
      "outputs": [
        {
          "output_type": "stream",
          "name": "stdout",
          "text": [
            "tanveer7\n"
          ]
        }
      ]
    },
    {
      "cell_type": "code",
      "source": [
        "a=78\n",
        "if(a>0):\n",
        "  print('The number is positive.')\n",
        "elif(a<0):\n",
        "  print('The number is negative.')\n",
        "else:\n",
        "  print('The number is zero.')"
      ],
      "metadata": {
        "colab": {
          "base_uri": "https://localhost:8080/"
        },
        "id": "zlkuVD173PG8",
        "outputId": "c9bcca8e-89a7-48ba-a7ab-5829a7ffd4d7"
      },
      "execution_count": 64,
      "outputs": [
        {
          "output_type": "stream",
          "name": "stdout",
          "text": [
            "The number is positive.\n"
          ]
        }
      ]
    },
    {
      "cell_type": "code",
      "source": [
        "a=int(input(\"enter the value :\"))\n",
        "if(a%2==0):\n",
        "  print('The number is even')\n",
        "else:\n",
        "  print('The number is odd')"
      ],
      "metadata": {
        "colab": {
          "base_uri": "https://localhost:8080/"
        },
        "id": "dkUTyP8o3Xj8",
        "outputId": "9b403185-93a1-4afb-f165-43f636a3b8bc"
      },
      "execution_count": 65,
      "outputs": [
        {
          "output_type": "stream",
          "name": "stdout",
          "text": [
            "enter the value :45\n",
            "The number is odd\n"
          ]
        }
      ]
    },
    {
      "cell_type": "code",
      "source": [
        "for i in range(0,10):\n",
        "  print(i)\n"
      ],
      "metadata": {
        "colab": {
          "base_uri": "https://localhost:8080/"
        },
        "id": "mr9J_YNQ3i9r",
        "outputId": "e41e56a4-c6bb-4159-c73c-0cb66c1b4099"
      },
      "execution_count": 10,
      "outputs": [
        {
          "output_type": "stream",
          "name": "stdout",
          "text": [
            "0\n",
            "1\n",
            "2\n",
            "3\n",
            "4\n",
            "5\n",
            "6\n",
            "7\n",
            "8\n",
            "9\n"
          ]
        }
      ]
    },
    {
      "cell_type": "code",
      "source": [
        "i=0\n",
        "while(i<=10):\n",
        "   print(i)\n",
        "   i=i+1\n",
        "\n"
      ],
      "metadata": {
        "colab": {
          "base_uri": "https://localhost:8080/"
        },
        "id": "YYhPXo5K3w21",
        "outputId": "bbde29b9-9846-42eb-aaf1-b22f7eb4b978"
      },
      "execution_count": 11,
      "outputs": [
        {
          "output_type": "stream",
          "name": "stdout",
          "text": [
            "0\n",
            "1\n",
            "2\n",
            "3\n",
            "4\n",
            "5\n",
            "6\n",
            "7\n",
            "8\n",
            "9\n",
            "10\n"
          ]
        }
      ]
    },
    {
      "cell_type": "code",
      "source": [
        "s=0\n",
        "i=1\n",
        "while (i<=100):\n",
        "    s=s+i\n",
        "    i=i+1\n",
        "print(\"the sum is \", s)\n",
        "\n",
        ""
      ],
      "metadata": {
        "colab": {
          "base_uri": "https://localhost:8080/"
        },
        "id": "evg1_zTc4CsF",
        "outputId": "0334cc4a-20a8-4011-8ddb-e31835f06880"
      },
      "execution_count": 16,
      "outputs": [
        {
          "output_type": "stream",
          "name": "stdout",
          "text": [
            "the sum is  5050\n"
          ]
        }
      ]
    },
    {
      "cell_type": "code",
      "source": [
        "list=[1,2,3,4,5]\n",
        "l=max(list)\n",
        "s=min(list)\n",
        "print('The largest:',l)\n",
        "print('The smallest :',s)"
      ],
      "metadata": {
        "colab": {
          "base_uri": "https://localhost:8080/"
        },
        "id": "l5DFovGj4U-d",
        "outputId": "b600f29d-9a0b-4fd3-978a-169f6a02b81d"
      },
      "execution_count": 55,
      "outputs": [
        {
          "output_type": "stream",
          "name": "stdout",
          "text": [
            "The largest: 5\n",
            "The smallest : 1\n"
          ]
        }
      ]
    },
    {
      "cell_type": "code",
      "source": [
        "directory={\n",
        "    \"Name\":\"tanveer\",\n",
        "    \"year\":\"2nd year cse \"\n",
        "}\n",
        "key=\"year\"\n",
        "if key in directory:\n",
        "  value=directory[key]\n",
        "  print(f\"The value for the key '{key}' is: {value}\")\n",
        "else:\n",
        "    print(f\"The key '{key}' is not found in the dictionary!\")"
      ],
      "metadata": {
        "colab": {
          "base_uri": "https://localhost:8080/"
        },
        "id": "pTSdmj3_4fCn",
        "outputId": "06351986-00d9-4763-dd4d-fd006b369786"
      },
      "execution_count": 56,
      "outputs": [
        {
          "output_type": "stream",
          "name": "stdout",
          "text": [
            "The value for the key 'year' is: 2nd year cse \n"
          ]
        }
      ]
    },
    {
      "cell_type": "code",
      "source": [
        "list=[1,2,3,34,5,6,7,10]\n",
        "ascending=sorted(list)\n",
        "descending=sorted(list,reverse=True)\n",
        "print('asccending order:',ascending)\n",
        "print('descending order:',descending)"
      ],
      "metadata": {
        "colab": {
          "base_uri": "https://localhost:8080/"
        },
        "id": "wSqkp9CP5Nb_",
        "outputId": "644e6a83-9af8-4afe-b01d-319a9a16d001"
      },
      "execution_count": 19,
      "outputs": [
        {
          "output_type": "stream",
          "name": "stdout",
          "text": [
            "asccending order: [1, 2, 3, 5, 6, 7, 10, 34]\n",
            "descending order: [34, 10, 7, 6, 5, 3, 2, 1]\n"
          ]
        }
      ]
    },
    {
      "cell_type": "code",
      "source": [
        "directory1={\"a\":1,\" b\":2,\"c\":3}\n",
        "directory2={\"d\":4,\"e\":5,\"f\":6}\n",
        "merged={**directory1,**directory2}\n",
        "print('The merged directory is:',merged)"
      ],
      "metadata": {
        "colab": {
          "base_uri": "https://localhost:8080/"
        },
        "id": "H8wcrWbl5Ndd",
        "outputId": "da9bbfad-ba3d-4963-be31-fa646cb07875"
      },
      "execution_count": 58,
      "outputs": [
        {
          "output_type": "stream",
          "name": "stdout",
          "text": [
            "The merged directory is: {'a': 1, ' b': 2, 'c': 3, 'd': 4, 'e': 5, 'f': 6}\n"
          ]
        }
      ]
    },
    {
      "cell_type": "code",
      "source": [
        "s=input(\"enter the string:\")\n",
        "a=\"aeiouAEIOU\"\n",
        "counter=0\n",
        "for char in s:\n",
        "  if char in a:\n",
        "    counter=counter+1\n",
        "print('The count of vowels in the string:',counter)\n"
      ],
      "metadata": {
        "colab": {
          "base_uri": "https://localhost:8080/"
        },
        "id": "6GSwZhMv5oCa",
        "outputId": "9efc7bb3-8d18-4eb4-d502-4e3b4a6277ed"
      },
      "execution_count": 59,
      "outputs": [
        {
          "output_type": "stream",
          "name": "stdout",
          "text": [
            "enter the string:tanveer\n",
            "The count of vowels in the string: 3\n"
          ]
        }
      ]
    },
    {
      "cell_type": "code",
      "source": [
        "string=input(\"Enter:\")\n",
        "rev=string[::-1]\n",
        "print('The reversed string is:',rev)"
      ],
      "metadata": {
        "colab": {
          "base_uri": "https://localhost:8080/"
        },
        "id": "V1KOJzbN6OlG",
        "outputId": "971c8f13-58e8-4559-ae77-2b19c4bb9fd0"
      },
      "execution_count": 60,
      "outputs": [
        {
          "output_type": "stream",
          "name": "stdout",
          "text": [
            "Enter:tanveer\n",
            "The reversed string is: reevnat\n"
          ]
        }
      ]
    },
    {
      "cell_type": "code",
      "source": [
        "string=input(\"enter :\")\n",
        "a=string.replace(\"\",\"\").lower()\n",
        "rev=string[::-1]\n",
        "if (a==rev):\n",
        "  print('The string is a palindrome')\n",
        "else:\n",
        "  print('The string is not a palindrome')"
      ],
      "metadata": {
        "colab": {
          "base_uri": "https://localhost:8080/"
        },
        "id": "MoLF7oMB6mLe",
        "outputId": "67f728b9-86ed-49e1-b90e-e5842687fe72"
      },
      "execution_count": 52,
      "outputs": [
        {
          "output_type": "stream",
          "name": "stdout",
          "text": [
            "enter :dad\n",
            "The string is a palindrome\n"
          ]
        }
      ]
    },
    {
      "cell_type": "code",
      "source": [
        "with open(\"content.txt\",\"w\") as file:\n",
        "  file.write(\"Heloo \")\n",
        "  file.write(\" How is everything going be grateful \")\n",
        "with open(\"content.txt\",\"r\") as file:\n",
        "  content=file.read()\n",
        "  print(\"content is \")\n",
        "  print(content)"
      ],
      "metadata": {
        "colab": {
          "base_uri": "https://localhost:8080/"
        },
        "id": "OQHafFy-7Sl4",
        "outputId": "165894cd-0e7e-4bf6-d0a4-1eadbff933e6"
      },
      "execution_count": 66,
      "outputs": [
        {
          "output_type": "stream",
          "name": "stdout",
          "text": [
            "content is \n",
            "Heloo  How is everything going be grateful \n"
          ]
        }
      ]
    },
    {
      "cell_type": "code",
      "source": [
        "with open(\"content.txt\",\"a\") as file:\n",
        "  file.write(\"hey there \")\n",
        "  file.write(\"\\nsentence appended \")\n",
        "with open(\"content.txt\",\"r\") as file:\n",
        "  content=file.read()\n",
        "print('added is :')\n",
        "print(content)"
      ],
      "metadata": {
        "colab": {
          "base_uri": "https://localhost:8080/"
        },
        "id": "4zDxkyn37SnW",
        "outputId": "d3d66bfc-3446-4fd4-a74c-445f6cbfc239"
      },
      "execution_count": 68,
      "outputs": [
        {
          "output_type": "stream",
          "name": "stdout",
          "text": [
            "added is :\n",
            "Heloo  How is everything going be grateful hey there \n",
            "Sentence Appendedhey there \n",
            "sentence appended \n"
          ]
        }
      ]
    },
    {
      "cell_type": "code",
      "source": [
        "with open(\"content.txt\",\"r\") as file:\n",
        "  c=0\n",
        "  for line in file:\n",
        "    c=c+1\n",
        "print('The number of lines in the file is:',c)"
      ],
      "metadata": {
        "colab": {
          "base_uri": "https://localhost:8080/"
        },
        "id": "aOE7Hz9A7tdA",
        "outputId": "74287d26-7914-4987-b0a6-6eb72e2243a9"
      },
      "execution_count": 32,
      "outputs": [
        {
          "output_type": "stream",
          "name": "stdout",
          "text": [
            "The number of lines in the file is: 1\n"
          ]
        }
      ]
    },
    {
      "cell_type": "code",
      "source": [
        "try:\n",
        "    numerator = float(input(\"numerator :\"))\n",
        "    denominator = float(input(\"denominator: \"))\n",
        "    output = numerator / denominator\n",
        "    print(f\"The output of the division is: {output}\")\n",
        "except zeroerror:\n",
        "    print(\"Cannot be divide by zero!\")\n",
        "except ValueError:\n",
        "    print(\"Enter valid numbers!\")"
      ],
      "metadata": {
        "colab": {
          "base_uri": "https://localhost:8080/"
        },
        "id": "kxFAymPq771_",
        "outputId": "968a15df-cd75-4973-de77-234da0b2dc27"
      },
      "execution_count": 33,
      "outputs": [
        {
          "output_type": "stream",
          "name": "stdout",
          "text": [
            "numerator :4\n",
            "denominator: 5\n",
            "The output of the division is: 0.8\n"
          ]
        }
      ]
    },
    {
      "cell_type": "code",
      "source": [
        "try:\n",
        "    number = float(input(\"enter number: \"))\n",
        "    print(f\"the number entered is: {number}\")\n",
        "except ValueError:\n",
        "    print(\"enter a valid number\")"
      ],
      "metadata": {
        "colab": {
          "base_uri": "https://localhost:8080/"
        },
        "id": "6KmSUm8v8MLJ",
        "outputId": "f928464e-92c8-4e29-a3d8-c1d07c2d7069"
      },
      "execution_count": 34,
      "outputs": [
        {
          "output_type": "stream",
          "name": "stdout",
          "text": [
            "enter number: 1\n",
            "the number entered is: 1.0\n"
          ]
        }
      ]
    },
    {
      "cell_type": "code",
      "source": [
        "try:\n",
        "    number = float(input(\"enter: \"))\n",
        "    print(f\"number is : {number}\")\n",
        "except errora:\n",
        "    print(\"invalid entr a valid \")\n",
        "finally:\n",
        "    print(\"fi9nally block\")"
      ],
      "metadata": {
        "colab": {
          "base_uri": "https://localhost:8080/"
        },
        "id": "QGMudXs98MMJ",
        "outputId": "a09c85e7-4138-4fb5-9b47-e349b89513a3"
      },
      "execution_count": 35,
      "outputs": [
        {
          "output_type": "stream",
          "name": "stdout",
          "text": [
            "enter: 3\n",
            "number is : 3.0\n",
            "fi9nally block\n"
          ]
        }
      ]
    },
    {
      "cell_type": "code",
      "source": [
        "import random\n",
        "for _ in range(4):\n",
        "  number= random.randint(1, 100)\n",
        "  print(number)\n"
      ],
      "metadata": {
        "colab": {
          "base_uri": "https://localhost:8080/"
        },
        "id": "56BZ-MHV8p5z",
        "outputId": "c96cd354-973b-4cde-c98e-afe080efc44d"
      },
      "execution_count": 36,
      "outputs": [
        {
          "output_type": "stream",
          "name": "stdout",
          "text": [
            "27\n",
            "56\n",
            "20\n",
            "26\n"
          ]
        }
      ]
    },
    {
      "cell_type": "code",
      "source": [
        "import random\n",
        "def check_prime(number):\n",
        "  if number<=1:\n",
        "    return False\n",
        "  for i in range(2,int(number ** 0.5)+1):\n",
        "    if number%i==0:\n",
        "      return False\n",
        "  return True\n",
        "number=random.randint(1,100)\n",
        "if check_prime(number):\n",
        "    print(f\"The number {number} is prime\")\n",
        "else:\n",
        "    print(f\"The number {number} is not prime \")"
      ],
      "metadata": {
        "colab": {
          "base_uri": "https://localhost:8080/"
        },
        "id": "gMjLD9Rt9KVz",
        "outputId": "93dbcb0b-f7f1-4ab2-a42e-7b5f38af65d3"
      },
      "execution_count": 37,
      "outputs": [
        {
          "output_type": "stream",
          "name": "stdout",
          "text": [
            "The number 12 is not prime \n"
          ]
        }
      ]
    },
    {
      "cell_type": "code",
      "source": [
        "import random\n",
        "dice = random.randint(1,6)\n",
        "print(\"The result is :\",dice)"
      ],
      "metadata": {
        "colab": {
          "base_uri": "https://localhost:8080/"
        },
        "id": "RQBaMxy59Zdb",
        "outputId": "3b17df33-b421-475f-cfed-9603c724ecd3"
      },
      "execution_count": 38,
      "outputs": [
        {
          "output_type": "stream",
          "name": "stdout",
          "text": [
            "The result is : 5\n"
          ]
        }
      ]
    },
    {
      "cell_type": "code",
      "source": [
        "import random\n",
        "number=[1,3,4,5,6,7,8,89,45,8,98,67]\n",
        "random.shuffle(number)\n",
        "print(\"The Shuffled list is :\",number)"
      ],
      "metadata": {
        "colab": {
          "base_uri": "https://localhost:8080/"
        },
        "id": "_mHxpFjX922-",
        "outputId": "99ad5385-88d1-4562-b79b-f5c6305b9a62"
      },
      "execution_count": 39,
      "outputs": [
        {
          "output_type": "stream",
          "name": "stdout",
          "text": [
            "The Shuffled list is : [98, 1, 45, 67, 7, 8, 3, 89, 5, 4, 8, 6]\n"
          ]
        }
      ]
    },
    {
      "cell_type": "code",
      "source": [
        "import random\n",
        "list=['yellow','grey','pink','green']\n",
        "item=random.choice(list)\n",
        "print('The random choice from the list is:',item)"
      ],
      "metadata": {
        "colab": {
          "base_uri": "https://localhost:8080/"
        },
        "id": "WcCH-NVI923t",
        "outputId": "b23ca2e5-ae04-4364-8e67-9f75951ea192"
      },
      "execution_count": 40,
      "outputs": [
        {
          "output_type": "stream",
          "name": "stdout",
          "text": [
            "The random choice from the list is: green\n"
          ]
        }
      ]
    },
    {
      "cell_type": "code",
      "source": [
        "import random\n",
        "import string\n",
        "def generate(length):\n",
        "    character= string.ascii_letters + string.digits\n",
        "    password = ''.join(random.choice(character) for _ in range(length))\n",
        "    return password\n",
        "passwordlength = int(input(\"Enter the password length: \"))\n",
        "password = generate(passwordlength)\n",
        "print(\"The generated password:\",password)"
      ],
      "metadata": {
        "colab": {
          "base_uri": "https://localhost:8080/"
        },
        "id": "UdknYOLy-UwK",
        "outputId": "39412057-37cb-4820-c8c2-cde583b68d36"
      },
      "execution_count": 42,
      "outputs": [
        {
          "output_type": "stream",
          "name": "stdout",
          "text": [
            "Enter the password length: 4\n",
            "The generated password: T6dH\n"
          ]
        }
      ]
    },
    {
      "cell_type": "code",
      "source": [
        "import random\n",
        "cards= ['Clubs', 'Hearts', 'Spades', 'Diamonds']\n",
        "ranks = ['2', '3', '4', '5', '6', '7', '8', '9', '10', 'Jack', 'Queen', 'King', 'Ace']\n",
        "deck = [f\"{rank} of {card}\" for card in cards for rank in ranks]\n",
        "random_card = random.choice(deck)\n",
        "print(\"The card randomly selected is:\",random_card)"
      ],
      "metadata": {
        "colab": {
          "base_uri": "https://localhost:8080/"
        },
        "id": "zii-wB5u-hhp",
        "outputId": "3ea1d56a-8014-45f3-ae11-ba851eb4be36"
      },
      "execution_count": 43,
      "outputs": [
        {
          "output_type": "stream",
          "name": "stdout",
          "text": [
            "The card randomly selected is: Ace of Diamonds\n"
          ]
        }
      ]
    },
    {
      "cell_type": "code",
      "source": [
        "import sys\n",
        "\n",
        "sys.argv = ['sum','4','9']\n",
        "\n",
        "\n",
        "a=int(sys.argv[1])\n",
        "b=int(sys.argv[2])\n",
        "sum=a+b\n",
        "print(\"The sum is :\",sum)"
      ],
      "metadata": {
        "colab": {
          "base_uri": "https://localhost:8080/"
        },
        "id": "myoxHdc3-138",
        "outputId": "00772c86-8a9b-49eb-fca0-c1cb083448c8"
      },
      "execution_count": 44,
      "outputs": [
        {
          "output_type": "stream",
          "name": "stdout",
          "text": [
            "The sum is : 13\n"
          ]
        }
      ]
    },
    {
      "cell_type": "code",
      "source": [
        "import sys\n",
        "string = sys.argv[1]\n",
        "print(f\"The length of string is  {len(string)}\")"
      ],
      "metadata": {
        "colab": {
          "base_uri": "https://localhost:8080/"
        },
        "id": "282okD6X_AAY",
        "outputId": "00ca3e04-f56b-4b77-c803-b03b01193189"
      },
      "execution_count": 45,
      "outputs": [
        {
          "output_type": "stream",
          "name": "stdout",
          "text": [
            "The length of string is  1\n"
          ]
        }
      ]
    },
    {
      "cell_type": "code",
      "source": [
        "import math\n",
        "number=float(input(\"Enter the number :\"))\n",
        "if (number<0):\n",
        "  print('invalid')\n",
        "else:\n",
        "  sq_root=math.sqrt(number)\n",
        "  print('The value is:',sq_root)\n"
      ],
      "metadata": {
        "colab": {
          "base_uri": "https://localhost:8080/"
        },
        "id": "TuBp6rlu_HeU",
        "outputId": "a149c918-04d7-4251-d9bc-ce7f9a4741f7"
      },
      "execution_count": 49,
      "outputs": [
        {
          "output_type": "stream",
          "name": "stdout",
          "text": [
            "Enter the number :-45\n",
            "invalid\n"
          ]
        }
      ]
    },
    {
      "cell_type": "code",
      "source": [
        "import datetime\n",
        "present = datetime.datetime.now()\n",
        "print(\"Present date and time is:\", present)"
      ],
      "metadata": {
        "colab": {
          "base_uri": "https://localhost:8080/"
        },
        "id": "qT5Szi8C_dqM",
        "outputId": "8a0b4e7d-69c0-48c1-bee0-617074ce594f"
      },
      "execution_count": 50,
      "outputs": [
        {
          "output_type": "stream",
          "name": "stdout",
          "text": [
            "Present date and time is: 2025-01-13 14:08:04.462732\n"
          ]
        }
      ]
    },
    {
      "cell_type": "code",
      "source": [
        "import os\n",
        "filessss = os.listdir()\n",
        "print(\"files currently are :\",filessss)\n"
      ],
      "metadata": {
        "colab": {
          "base_uri": "https://localhost:8080/"
        },
        "id": "ScHltB_2_l0T",
        "outputId": "b80dea7d-ee23-485f-b3d3-3796f7541171"
      },
      "execution_count": 51,
      "outputs": [
        {
          "output_type": "stream",
          "name": "stdout",
          "text": [
            "files currently are : ['.config', 'content.txt', 'sample_data']\n"
          ]
        }
      ]
    }
  ]
}