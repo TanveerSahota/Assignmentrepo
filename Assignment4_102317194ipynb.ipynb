{
  "nbformat": 4,
  "nbformat_minor": 0,
  "metadata": {
    "colab": {
      "provenance": []
    },
    "kernelspec": {
      "name": "python3",
      "display_name": "Python 3"
    },
    "language_info": {
      "name": "python"
    }
  },
  "cells": [
    {
      "cell_type": "code",
      "execution_count": 2,
      "metadata": {
        "colab": {
          "base_uri": "https://localhost:8080/"
        },
        "id": "V4TrEzzD1EWY",
        "outputId": "b8de245c-9001-430c-b96e-867a0e42a8c5"
      },
      "outputs": [
        {
          "output_type": "stream",
          "name": "stdout",
          "text": [
            "Ques 1.\n",
            "original array: [1 2 3 4 5]\n",
            "after adding 2 : [3 4 5 6 7]\n",
            "after dividing by 2  [0.5 1.  1.5 2.  2.5]\n",
            "after multiplying by 3  [ 3  6  9 12 15]\n",
            "Done\n"
          ]
        }
      ],
      "source": [
        "print(\"Ques 1.\")\n",
        "import numpy as np\n",
        "\n",
        "arr=np.array([1,2,3,4,5])\n",
        "print(\"original array:\",arr)\n",
        "print(\"after adding 2 :\",arr+2)\n",
        "print(\"after dividing by 2 \",arr/2)\n",
        "print(\"after multiplying by 3 \",arr*3)\n",
        "print(\"Done\")\n",
        "\n"
      ]
    },
    {
      "cell_type": "code",
      "source": [
        "print(\"Ques 2a.\")\n",
        "import numpy as np\n",
        "arr0 = np.array([1, 2, 3, 6, 4, 5])\n",
        "print(\"reversed array \\n\", arr0[::-1])#indexing\n",
        "print(\"\\nQues 2b.\")\n",
        "x = np.array([1,2,3,4,5,1,2,1,1,1])\n",
        "y = np.array([1,1,1,2,3,4,2,4,3,3])\n",
        "print(\"maximum frequent value in x :\",np.bincount(x).argmax(), \"maximum frequent value in y :\",np.bincount(y).argmax())\n"
      ],
      "metadata": {
        "colab": {
          "base_uri": "https://localhost:8080/"
        },
        "id": "9A_PrIY32FyK",
        "outputId": "fa2f5a92-9c67-4bec-b51a-5f456ab38412"
      },
      "execution_count": 16,
      "outputs": [
        {
          "output_type": "stream",
          "name": "stdout",
          "text": [
            "Ques 2a.\n",
            "reversed array \n",
            " [5 4 6 3 2 1]\n",
            "\n",
            "Ques 2b.\n",
            "maximum frequent value in x : 1 maximum frequent value in y : 1\n"
          ]
        }
      ]
    },
    {
      "cell_type": "code",
      "source": [
        "print(\"Ques 3.\")\n",
        "import numpy as np\n",
        "arr1 = np.array([[10, 20, 30], [40, 50, 60], [70, 80, 90]])\n",
        "print(\"1st row , 2nd column element : \",arr1[0, 1],\"\\n3rd row , 1st column element:\", arr1[2, 0])\n"
      ],
      "metadata": {
        "colab": {
          "base_uri": "https://localhost:8080/"
        },
        "id": "C32hs8T82rBm",
        "outputId": "009f65bd-1d4e-4518-8475-c773184ac2aa"
      },
      "execution_count": 19,
      "outputs": [
        {
          "output_type": "stream",
          "name": "stdout",
          "text": [
            "Ques 3.\n",
            "1st row , 2nd column element :  20 \n",
            "3rd row , 1st column element: 70\n"
          ]
        }
      ]
    },
    {
      "cell_type": "code",
      "source": [
        "print(\"Ques4.\")\n",
        "import numpy as np\n",
        "tanveer_array = np.linspace(10, 100, 25)\n",
        "print(tanveer_array.shape)\n",
        "print(tanveer_array.size)\n",
        "print(tanveer_array.dtype)\n",
        "print(tanveer_array.nbytes)\n",
        "print(tanveer_array.reshape(25, 1).T)\n"
      ],
      "metadata": {
        "colab": {
          "base_uri": "https://localhost:8080/"
        },
        "id": "wZeiRUNJ3BPJ",
        "outputId": "da89d39f-7472-48ac-f4ec-ca93bed18129"
      },
      "execution_count": 20,
      "outputs": [
        {
          "output_type": "stream",
          "name": "stdout",
          "text": [
            "Ques4.\n",
            "(25,)\n",
            "25\n",
            "float64\n",
            "200\n",
            "[[ 10.    13.75  17.5   21.25  25.    28.75  32.5   36.25  40.    43.75\n",
            "   47.5   51.25  55.    58.75  62.5   66.25  70.    73.75  77.5   81.25\n",
            "   85.    88.75  92.5   96.25 100.  ]]\n"
          ]
        }
      ]
    },
    {
      "cell_type": "code",
      "source": [
        "print(\"Ques 5.\")\n",
        "import numpy as np\n",
        "UCS420_TANVEER= np.array([[10, 20, 30, 40], [50, 60, 70, 80], [90, 15, 20, 35]])\n",
        "print(np.mean(UCS420_TANVEER))\n",
        "print(np.median(UCS420_TANVEER))\n",
        "print(np.max(UCS420_TANVEER))\n",
        "print(np.min(UCS420_TANVEER))\n",
        "print(np.unique(UCS420_TANVEER))\n",
        "reshaped_ucs420 = UCS420_TANVEER.reshape(4, 3)\n",
        "resized_ucs420 = np.resize(UCS420_TANVEER, (2, 3))\n",
        "print(reshaped_ucs420, resized_ucs420)"
      ],
      "metadata": {
        "colab": {
          "base_uri": "https://localhost:8080/"
        },
        "id": "X80tzIO32rCy",
        "outputId": "096acce4-1ab3-4179-d188-3947020e0297"
      },
      "execution_count": 21,
      "outputs": [
        {
          "output_type": "stream",
          "name": "stdout",
          "text": [
            "Ques 5.\n",
            "43.333333333333336\n",
            "37.5\n",
            "90\n",
            "10\n",
            "[10 15 20 30 35 40 50 60 70 80 90]\n",
            "[[10 20 30]\n",
            " [40 50 60]\n",
            " [70 80 90]\n",
            " [15 20 35]] [[10 20 30]\n",
            " [40 50 60]]\n"
          ]
        }
      ]
    }
  ]
}