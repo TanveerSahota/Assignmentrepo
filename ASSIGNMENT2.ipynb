{
 "cells": [
  {
   "cell_type": "code",
   "execution_count": 120,
   "metadata": {},
   "outputs": [
    {
     "name": "stdout",
     "output_type": "stream",
     "text": [
      "ASSIGNMENT 2\n"
     ]
    }
   ],
   "source": [
    "print(\"ASSIGNMENT 2\")"
   ]
  },
  {
   "cell_type": "code",
   "execution_count": 49,
   "metadata": {},
   "outputs": [
    {
     "name": "stdout",
     "output_type": "stream",
     "text": [
      "QUES.1\n",
      "The list after adding 200 and 300 and removing 10 and 30 is :  [20, 40, 50, 60, 70, 80, 200, 300]\n",
      "The list in ascending order is :  [20, 40, 50, 60, 70, 80, 200, 300]\n",
      "The list in descending order is :  [20, 40, 50, 60, 70, 80, 200, 300]\n"
     ]
    }
   ],
   "source": [
    "print('QUES.1')\n",
    "a=[10,20,30,40,50,60,70,80]\n",
    "a.append(200)\n",
    "\n",
    "a.append(300)\n",
    "\n",
    "a.remove(10)\n",
    "a.remove(30)\n",
    "\n",
    "print('The list after adding 200 and 300 and removing 10 and 30 is : ',a)\n",
    "ascending=sorted(a)\n",
    "print('The list in ascending order is : ',a)\n",
    "\n",
    "descending=sorted(a,reverse=True)\n",
    "print('The list in descending order is : ',a)\n",
    "\n"
   ]
  },
  {
   "cell_type": "code",
   "execution_count": 83,
   "metadata": {},
   "outputs": [
    {
     "name": "stdout",
     "output_type": "stream",
     "text": [
      "QUES 2.\n",
      "The given tuple is : (45, 89.5, 76, 45.4, 89, 92, 58, 45)\n",
      "The length of tuple is :  8\n",
      "The highest score in the tuple is :  92\n",
      "the highest score occurs at index : 5\n",
      "The minimum score is given as : 45\n",
      "Minimum score appears : 2\n",
      "Reversed :  (45, 58, 92, 89, 45.4, 76, 89.5, 45)\n",
      "Converted to list is : [45, 89.5, 76, 45.4, 89, 92, 58, 45]\n",
      "76 entered by user\n",
      "Found in list \n"
     ]
    }
   ],
   "source": [
    "print('QUES 2.')\n",
    "scores=(45,89.5,76,45.4,89,92,58,45)\n",
    "print('The given tuple is :',scores)\n",
    "print('The length of tuple is : ',len(scores))\n",
    "print('The highest score in the tuple is : ',max(scores))\n",
    "print('the highest score occurs at index :',scores.index(max(scores)))\n",
    "print(\"The minimum score is given as :\",min(scores))\n",
    "print(\"Minimum score appears :\",scores.count(min(scores)))\n",
    "print('Reversed : ',scores[::-1])\n",
    "print('Converted to list is :',__builtins__.list(scores))\n",
    "score=__builtins__.list(scores)\n",
    "n=int(input('Enter the value to check in list :'))\n",
    "print(n,\"entered by user\")\n",
    "if n in score :\n",
    "   print(\"Found in list \")\n",
    "else:\n",
    "       print('Not found in list  ')"
   ]
  },
  {
   "cell_type": "code",
   "execution_count": 97,
   "metadata": {},
   "outputs": [
    {
     "name": "stdout",
     "output_type": "stream",
     "text": [
      "QUES 3. \n",
      "The even numbers in the list are : 53\n",
      "The odd numbers are : 47\n",
      "The prime numbers are : 15\n"
     ]
    }
   ],
   "source": [
    "print('QUES 3. ')\n",
    "import random \n",
    "\n",
    "#prime checking function \n",
    "def prime788(x):\n",
    "     if x==1:\n",
    "          return False \n",
    "     for i in range(2,int(x**0.5)+1):\n",
    "         if x%i==0:\n",
    "              return False #doubtbful\n",
    "     return True\n",
    "primecounter=0\n",
    "countereven=0\n",
    "counterodd=0\n",
    "\n",
    "numbers=[random.randint(100,900)for _ in range(100)]\n",
    "\n",
    "for a in numbers:\n",
    "     if a%2==0:\n",
    "          countereven+=1\n",
    "           #even numbers \n",
    "     else :\n",
    "          counterodd=counterodd+1 #oddnumbers\n",
    "     if(prime788(a)):\n",
    "          primecounter+=1#prime numbers \n",
    "\n",
    "\n",
    "\n",
    "#printing          \n",
    "print('The even numbers in the list are :',countereven)\n",
    "print(\"The odd numbers are :\",counterodd)\n",
    "print('The prime numbers are :',primecounter)\n",
    "\n",
    "\n",
    "\n"
   ]
  },
  {
   "cell_type": "code",
   "execution_count": 102,
   "metadata": {},
   "outputs": [
    {
     "name": "stdout",
     "output_type": "stream",
     "text": [
      "QUES 4.\n",
      "SCORES OF TEAM A :  {56, 34, 90, 78}\n",
      "SCORES OF TEAM B :  {90, 45, 78, 23}\n",
      "The scores common to both the teams are: {90, 78}\n",
      "The unique scores achieved by both teams are : {34, 45, 78, 23, 56, 90}\n",
      "The scores exclusive to team A are : {56, 34}\n",
      "The scores exclusive to team B are : {45, 23}\n",
      "A is not a subset of B\n",
      "B is not a superset of A \n",
      "The number input by user has been removed from set . So now A :  {56, 34, 90}\n"
     ]
    }
   ],
   "source": [
    "print('QUES 4.')\n",
    "A={34,56,78,90}\n",
    "B={78,45,90,23}\n",
    "print('SCORES OF TEAM A : ',A)\n",
    "print('SCORES OF TEAM B : ',B)\n",
    "print('The scores common to both the teams are:',(A&B))\n",
    "print(\"The unique scores achieved by both teams are :\",A|B)\n",
    "print(\"The scores exclusive to team A are :\",A-B)\n",
    "print('The scores exclusive to team B are :',B-A)\n",
    "if A.issubset(B)==True: \n",
    "    print(\"A is the subsset of B\")\n",
    "else:\n",
    "    print(\"A is not a subset of B\")\n",
    "if B.issuperset(A)==True:\n",
    "    print('B is a superset of A ')\n",
    "else:\n",
    "    print('B is not a superset of A ')\n",
    "n=int(input('Enter the value to remove from set A :{34,56,78,90} : '))\n",
    "if n in A:\n",
    "    A.remove(n)\n",
    "    print(\"The number input by user has been removed from set . So now A : \",A)\n",
    "else :\n",
    "    print(\"Number not present \")\n",
    "\n",
    "\n",
    "\n"
   ]
  },
  {
   "cell_type": "code",
   "execution_count": 119,
   "metadata": {},
   "outputs": [
    {
     "name": "stdout",
     "output_type": "stream",
     "text": [
      "QUES 5.\n",
      "Initial dictionary : {'city': 'New York', 'population': 8419600, 'area': 468.9}\n",
      "New dictionary : {'population': 8419600, 'area': 468.9, 'location': 'New York'}\n"
     ]
    }
   ],
   "source": [
    "print('QUES 5.')\n",
    "data={ \"city\":\"New York\",\n",
    "      \"population\":8419600,\n",
    "      \"area\":468.9\n",
    "      }\n",
    "\n",
    "print(\"Initial dictionary :\",data)#checking \n",
    "data[\"location\"]=data.pop(\"city\")\n",
    "print (\"New dictionary :\",data)\n",
    "##"
   ]
  }
 ],
 "metadata": {
  "kernelspec": {
   "display_name": "Python 3",
   "language": "python",
   "name": "python3"
  },
  "language_info": {
   "codemirror_mode": {
    "name": "ipython",
    "version": 3
   },
   "file_extension": ".py",
   "mimetype": "text/x-python",
   "name": "python",
   "nbconvert_exporter": "python",
   "pygments_lexer": "ipython3",
   "version": "3.12.4"
  }
 },
 "nbformat": 4,
 "nbformat_minor": 2
}
